{
 "cells": [
  {
   "cell_type": "code",
   "execution_count": 3,
   "id": "40cee28e-73ea-462d-9d46-8691de0c7f8b",
   "metadata": {},
   "outputs": [],
   "source": [
    "from PyFlyt.core.drones import Rocket\n",
    "import numpy as np\n",
    "\n",
    "import gymnasium\n",
    "import PyFlyt.gym_envs\n",
    "\n",
    "from stable_baselines3 import DQN, PPO\n",
    "from stable_baselines3.common.evaluation import evaluate_policy"
   ]
  },
  {
   "cell_type": "code",
   "execution_count": 2,
   "id": "0d0ac625-ee64-4c87-b8c0-fe11a7882e85",
   "metadata": {},
   "outputs": [
    {
     "name": "stdout",
     "output_type": "stream",
     "text": [
      "\u001b[A                             \u001b[A\n"
     ]
    }
   ],
   "source": [
    "env = gymnasium.make(\"PyFlyt/Rocket-Landing-v1\", render_mode=\"human\")\n",
    "\n",
    "term, trunc = False, False\n",
    "obs, _ = env.reset()\n",
    "\n",
    "while not (term or trunc):\n",
    "    obs, rew, term, trunc, _ = env.step(env.action_space.sample())"
   ]
  },
  {
   "cell_type": "code",
   "execution_count": 4,
   "id": "953e27b0-fd62-4475-b164-907b14eb13b3",
   "metadata": {},
   "outputs": [
    {
     "name": "stdout",
     "output_type": "stream",
     "text": [
      "\u001b[A                             \u001b[A\n",
      "Using cpu device\n",
      "Wrapping the env with a `Monitor` wrapper\n",
      "Wrapping the env in a DummyVecEnv.\n",
      "\u001b[A                             \u001b[A\n",
      "\u001b[A                             \u001b[A\n",
      "\u001b[A                             \u001b[A\n",
      "---------------------------------\n",
      "| rollout/           |          |\n",
      "|    ep_len_mean     | 957      |\n",
      "|    ep_rew_mean     | -2.6e+04 |\n",
      "| time/              |          |\n",
      "|    fps             | 106      |\n",
      "|    iterations      | 1        |\n",
      "|    time_elapsed    | 19       |\n",
      "|    total_timesteps | 2048     |\n",
      "---------------------------------\n",
      "\u001b[A                             \u001b[A\n",
      "\u001b[A                             \u001b[A\n",
      "-----------------------------------------\n",
      "| rollout/                |             |\n",
      "|    ep_len_mean          | 951         |\n",
      "|    ep_rew_mean          | -2.58e+04   |\n",
      "| time/                   |             |\n",
      "|    fps                  | 97          |\n",
      "|    iterations           | 2           |\n",
      "|    time_elapsed         | 41          |\n",
      "|    total_timesteps      | 4096        |\n",
      "| train/                  |             |\n",
      "|    approx_kl            | 0.007062881 |\n",
      "|    clip_fraction        | 0.0573      |\n",
      "|    clip_range           | 0.2         |\n",
      "|    entropy_loss         | -9.93       |\n",
      "|    explained_variance   | -0.000257   |\n",
      "|    learning_rate        | 0.0003      |\n",
      "|    loss                 | 1.29e+05    |\n",
      "|    n_updates            | 10          |\n",
      "|    policy_gradient_loss | -0.0141     |\n",
      "|    std                  | 0.999       |\n",
      "|    value_loss           | 2.57e+05    |\n",
      "-----------------------------------------\n",
      "\u001b[A                             \u001b[A\n",
      "\u001b[A                             \u001b[A\n",
      "------------------------------------------\n",
      "| rollout/                |              |\n",
      "|    ep_len_mean          | 953          |\n",
      "|    ep_rew_mean          | -2.45e+04    |\n",
      "| time/                   |              |\n",
      "|    fps                  | 95           |\n",
      "|    iterations           | 3            |\n",
      "|    time_elapsed         | 64           |\n",
      "|    total_timesteps      | 6144         |\n",
      "| train/                  |              |\n",
      "|    approx_kl            | 0.0075897286 |\n",
      "|    clip_fraction        | 0.0816       |\n",
      "|    clip_range           | 0.2          |\n",
      "|    entropy_loss         | -9.92        |\n",
      "|    explained_variance   | -0.00265     |\n",
      "|    learning_rate        | 0.0003       |\n",
      "|    loss                 | 9.97e+04     |\n",
      "|    n_updates            | 20           |\n",
      "|    policy_gradient_loss | -0.0155      |\n",
      "|    std                  | 0.997        |\n",
      "|    value_loss           | 2.45e+05     |\n",
      "------------------------------------------\n",
      "\u001b[A                             \u001b[A\n",
      "\u001b[A                             \u001b[A\n",
      "-----------------------------------------\n",
      "| rollout/                |             |\n",
      "|    ep_len_mean          | 965         |\n",
      "|    ep_rew_mean          | -2.61e+04   |\n",
      "| time/                   |             |\n",
      "|    fps                  | 94          |\n",
      "|    iterations           | 4           |\n",
      "|    time_elapsed         | 86          |\n",
      "|    total_timesteps      | 8192        |\n",
      "| train/                  |             |\n",
      "|    approx_kl            | 0.008170832 |\n",
      "|    clip_fraction        | 0.0704      |\n",
      "|    clip_range           | 0.2         |\n",
      "|    entropy_loss         | -9.92       |\n",
      "|    explained_variance   | -0.000116   |\n",
      "|    learning_rate        | 0.0003      |\n",
      "|    loss                 | 7.59e+04    |\n",
      "|    n_updates            | 30          |\n",
      "|    policy_gradient_loss | -0.0144     |\n",
      "|    std                  | 1           |\n",
      "|    value_loss           | 1.89e+05    |\n",
      "-----------------------------------------\n",
      "\u001b[A                             \u001b[A\n",
      "\u001b[A                             \u001b[A\n",
      "------------------------------------------\n",
      "| rollout/                |              |\n",
      "|    ep_len_mean          | 969          |\n",
      "|    ep_rew_mean          | -2.74e+04    |\n",
      "| time/                   |              |\n",
      "|    fps                  | 93           |\n",
      "|    iterations           | 5            |\n",
      "|    time_elapsed         | 109          |\n",
      "|    total_timesteps      | 10240        |\n",
      "| train/                  |              |\n",
      "|    approx_kl            | 0.0064475634 |\n",
      "|    clip_fraction        | 0.0443       |\n",
      "|    clip_range           | 0.2          |\n",
      "|    entropy_loss         | -9.91        |\n",
      "|    explained_variance   | 0.0027       |\n",
      "|    learning_rate        | 0.0003       |\n",
      "|    loss                 | 1.55e+05     |\n",
      "|    n_updates            | 40           |\n",
      "|    policy_gradient_loss | -0.0125      |\n",
      "|    std                  | 0.995        |\n",
      "|    value_loss           | 3.28e+05     |\n",
      "------------------------------------------\n"
     ]
    },
    {
     "data": {
      "text/plain": [
       "<stable_baselines3.ppo.ppo.PPO at 0x211deedcac0>"
      ]
     },
     "execution_count": 4,
     "metadata": {},
     "output_type": "execute_result"
    }
   ],
   "source": [
    "# Create a DQN model with default parameters\n",
    "env = gymnasium.make(\"PyFlyt/Rocket-Landing-v1\")\n",
    "obs, _ = env.reset()\n",
    "\n",
    "model = PPO(\"MlpPolicy\", env, verbose=1)\n",
    "\n",
    "# Train the DQN model\n",
    "model.learn(total_timesteps=10000)"
   ]
  },
  {
   "cell_type": "code",
   "execution_count": 5,
   "id": "202f07b1-6b1b-48d9-b61f-6f19319e2c56",
   "metadata": {},
   "outputs": [
    {
     "name": "stderr",
     "output_type": "stream",
     "text": [
      "C:\\Users\\sudar\\AppData\\Local\\pypoetry\\Cache\\virtualenvs\\autonomous-falcon9-wJ6M2Wh--py3.9\\lib\\site-packages\\stable_baselines3\\common\\evaluation.py:67: UserWarning: Evaluation environment is not wrapped with a ``Monitor`` wrapper. This may result in reporting modified episode lengths and rewards, if other wrappers happen to modify these. Consider wrapping environment first with ``Monitor`` wrapper.\n",
      "  warnings.warn(\n"
     ]
    },
    {
     "name": "stdout",
     "output_type": "stream",
     "text": [
      "\u001b[A                             \u001b[A\n",
      "\u001b[A                             \u001b[A\n",
      "\u001b[A                             \u001b[A\n",
      "\u001b[A                             \u001b[A\n",
      "\u001b[A                             \u001b[A\n",
      "\u001b[A                             \u001b[A\n",
      "\u001b[A                             \u001b[A\n",
      "\u001b[A                             \u001b[A\n",
      "\u001b[A                             \u001b[A\n",
      "\u001b[A                             \u001b[A\n",
      "\u001b[A                             \u001b[A\n",
      "Mean reward: -11597.886913897097 Std reward: 813.1840321212217\n"
     ]
    }
   ],
   "source": [
    "# Evaluate the trained model\n",
    "mean_reward, std_reward = evaluate_policy(model, env, n_eval_episodes=10)\n",
    "print(\"Mean reward:\", mean_reward, \"Std reward:\", std_reward)\n"
   ]
  },
  {
   "cell_type": "code",
   "execution_count": 12,
   "id": "82074654-c1ea-47c0-acdb-664b433a5069",
   "metadata": {},
   "outputs": [],
   "source": [
    "# Save the trained model\n",
    "model.save(\"ppo_rocket_landing\")"
   ]
  },
  {
   "cell_type": "code",
   "execution_count": 13,
   "id": "e9b65a22-e94d-4446-88a1-e9316b590d86",
   "metadata": {},
   "outputs": [
    {
     "data": {
      "text/plain": [
       "'human'"
      ]
     },
     "execution_count": 13,
     "metadata": {},
     "output_type": "execute_result"
    }
   ],
   "source": [
    "env.render_mode"
   ]
  },
  {
   "cell_type": "code",
   "execution_count": 18,
   "id": "0bda272b-a958-415a-b51a-2e0dc2d8c4e6",
   "metadata": {},
   "outputs": [
    {
     "name": "stdout",
     "output_type": "stream",
     "text": [
      "\u001b[A                             \u001b[A\n"
     ]
    },
    {
     "data": {
      "text/plain": [
       "(array([ 0.00000000e+00,  0.00000000e+00,  0.00000000e+00,  0.00000000e+00,\n",
       "         0.00000000e+00,  0.00000000e+00,  1.00000000e+00,  0.00000000e+00,\n",
       "         0.00000000e+00, -7.76612966e-01,  0.00000000e+00,  0.00000000e+00,\n",
       "         4.49967641e+02,  0.00000000e+00,  0.00000000e+00,  0.00000000e+00,\n",
       "         0.00000000e+00,  0.00000000e+00,  0.00000000e+00,  0.00000000e+00,\n",
       "         0.00000000e+00,  0.00000000e+00,  0.00000000e+00,  0.00000000e+00,\n",
       "         0.00000000e+00,  1.00000000e-02,  0.00000000e+00,  0.00000000e+00,\n",
       "         0.00000000e+00,  0.00000000e+00, -2.65156748e+00, -1.88814616e+01,\n",
       "         4.48060967e+02]),\n",
       " {'out_of_bounds': False, 'fatal_collision': False, 'env_complete': False})"
      ]
     },
     "execution_count": 18,
     "metadata": {},
     "output_type": "execute_result"
    }
   ],
   "source": [
    "test_ = env.reset()\n",
    "test_"
   ]
  },
  {
   "cell_type": "code",
   "execution_count": 23,
   "id": "4a4583ff-e390-483c-8f9f-3a0d4563f817",
   "metadata": {},
   "outputs": [
    {
     "ename": "error",
     "evalue": "Only one local in-process GUI/GUI_SERVER connection allowed. Use DIRECT connection mode or start a separate GUI physics server (ExampleBrowser, App_SharedMemoryPhysics_GUI, App_SharedMemoryPhysics_VR) and connect over SHARED_MEMORY, UDP or TCP instead.",
     "output_type": "error",
     "traceback": [
      "\u001b[1;31m---------------------------------------------------------------------------\u001b[0m",
      "\u001b[1;31merror\u001b[0m                                     Traceback (most recent call last)",
      "Cell \u001b[1;32mIn[23], line 4\u001b[0m\n\u001b[0;32m      1\u001b[0m \u001b[38;5;66;03m# Render the environment\u001b[39;00m\n\u001b[0;32m      2\u001b[0m \u001b[38;5;66;03m# env = gymnasium.make(\"PyFlyt/Rocket-Landing-v1\", render_mode=\"human\")\u001b[39;00m\n\u001b[1;32m----> 4\u001b[0m obs, info \u001b[38;5;241m=\u001b[39m \u001b[43menv\u001b[49m\u001b[38;5;241;43m.\u001b[39;49m\u001b[43mreset\u001b[49m\u001b[43m(\u001b[49m\u001b[43m)\u001b[49m\n\u001b[0;32m      5\u001b[0m done \u001b[38;5;241m=\u001b[39m info[\u001b[38;5;124m'\u001b[39m\u001b[38;5;124menv_complete\u001b[39m\u001b[38;5;124m'\u001b[39m]\n\u001b[0;32m      6\u001b[0m \u001b[38;5;66;03m# done = False\u001b[39;00m\n",
      "File \u001b[1;32m~\\AppData\\Local\\pypoetry\\Cache\\virtualenvs\\autonomous-falcon9-wJ6M2Wh--py3.9\\lib\\site-packages\\gymnasium\\wrappers\\order_enforcing.py:61\u001b[0m, in \u001b[0;36mOrderEnforcing.reset\u001b[1;34m(self, **kwargs)\u001b[0m\n\u001b[0;32m     59\u001b[0m \u001b[38;5;250m\u001b[39m\u001b[38;5;124;03m\"\"\"Resets the environment with `kwargs`.\"\"\"\u001b[39;00m\n\u001b[0;32m     60\u001b[0m \u001b[38;5;28mself\u001b[39m\u001b[38;5;241m.\u001b[39m_has_reset \u001b[38;5;241m=\u001b[39m \u001b[38;5;28;01mTrue\u001b[39;00m\n\u001b[1;32m---> 61\u001b[0m \u001b[38;5;28;01mreturn\u001b[39;00m \u001b[38;5;28mself\u001b[39m\u001b[38;5;241m.\u001b[39menv\u001b[38;5;241m.\u001b[39mreset(\u001b[38;5;241m*\u001b[39m\u001b[38;5;241m*\u001b[39mkwargs)\n",
      "File \u001b[1;32m~\\AppData\\Local\\pypoetry\\Cache\\virtualenvs\\autonomous-falcon9-wJ6M2Wh--py3.9\\lib\\site-packages\\gymnasium\\wrappers\\env_checker.py:59\u001b[0m, in \u001b[0;36mPassiveEnvChecker.reset\u001b[1;34m(self, **kwargs)\u001b[0m\n\u001b[0;32m     57\u001b[0m     \u001b[38;5;28;01mreturn\u001b[39;00m env_reset_passive_checker(\u001b[38;5;28mself\u001b[39m\u001b[38;5;241m.\u001b[39menv, \u001b[38;5;241m*\u001b[39m\u001b[38;5;241m*\u001b[39mkwargs)\n\u001b[0;32m     58\u001b[0m \u001b[38;5;28;01melse\u001b[39;00m:\n\u001b[1;32m---> 59\u001b[0m     \u001b[38;5;28;01mreturn\u001b[39;00m \u001b[38;5;28mself\u001b[39m\u001b[38;5;241m.\u001b[39menv\u001b[38;5;241m.\u001b[39mreset(\u001b[38;5;241m*\u001b[39m\u001b[38;5;241m*\u001b[39mkwargs)\n",
      "File \u001b[1;32m~\\AppData\\Local\\pypoetry\\Cache\\virtualenvs\\autonomous-falcon9-wJ6M2Wh--py3.9\\lib\\site-packages\\PyFlyt\\gym_envs\\rocket_envs\\rocket_landing_env.py:98\u001b[0m, in \u001b[0;36mRocketLandingEnv.reset\u001b[1;34m(self, seed, options)\u001b[0m\n\u001b[0;32m     95\u001b[0m \u001b[38;5;28;01mif\u001b[39;00m options \u001b[38;5;129;01mis\u001b[39;00m \u001b[38;5;28;01mNone\u001b[39;00m:\n\u001b[0;32m     96\u001b[0m     options \u001b[38;5;241m=\u001b[39m \u001b[38;5;28mdict\u001b[39m(randomize_drop\u001b[38;5;241m=\u001b[39m\u001b[38;5;28;01mTrue\u001b[39;00m, accelerate_drop\u001b[38;5;241m=\u001b[39m\u001b[38;5;28;01mTrue\u001b[39;00m)\n\u001b[1;32m---> 98\u001b[0m \u001b[38;5;28;43msuper\u001b[39;49m\u001b[43m(\u001b[49m\u001b[43m)\u001b[49m\u001b[38;5;241;43m.\u001b[39;49m\u001b[43mbegin_reset\u001b[49m\u001b[43m(\u001b[49m\n\u001b[0;32m     99\u001b[0m \u001b[43m    \u001b[49m\u001b[43mseed\u001b[49m\u001b[38;5;241;43m=\u001b[39;49m\u001b[43mseed\u001b[49m\u001b[43m,\u001b[49m\u001b[43m \u001b[49m\u001b[43moptions\u001b[49m\u001b[38;5;241;43m=\u001b[39;49m\u001b[43moptions\u001b[49m\u001b[43m,\u001b[49m\u001b[43m \u001b[49m\u001b[43mdrone_options\u001b[49m\u001b[38;5;241;43m=\u001b[39;49m\u001b[38;5;28;43mdict\u001b[39;49m\u001b[43m(\u001b[49m\u001b[43mstarting_fuel_ratio\u001b[49m\u001b[38;5;241;43m=\u001b[39;49m\u001b[38;5;241;43m0.01\u001b[39;49m\u001b[43m)\u001b[49m\n\u001b[0;32m    100\u001b[0m \u001b[43m\u001b[49m\u001b[43m)\u001b[49m\n\u001b[0;32m    102\u001b[0m \u001b[38;5;66;03m# reset the tracked parameters\u001b[39;00m\n\u001b[0;32m    103\u001b[0m \u001b[38;5;28mself\u001b[39m\u001b[38;5;241m.\u001b[39mlanding_pad_contact \u001b[38;5;241m=\u001b[39m \u001b[38;5;241m0.0\u001b[39m\n",
      "File \u001b[1;32m~\\AppData\\Local\\pypoetry\\Cache\\virtualenvs\\autonomous-falcon9-wJ6M2Wh--py3.9\\lib\\site-packages\\PyFlyt\\gym_envs\\rocket_envs\\rocket_base_env.py:197\u001b[0m, in \u001b[0;36mRocketBaseEnv.begin_reset\u001b[1;34m(self, seed, options, drone_options)\u001b[0m\n\u001b[0;32m    194\u001b[0m     drone_options[\u001b[38;5;124m\"\u001b[39m\u001b[38;5;124muse_camera\u001b[39m\u001b[38;5;124m\"\u001b[39m] \u001b[38;5;241m|\u001b[39m\u001b[38;5;241m=\u001b[39m \u001b[38;5;28mself\u001b[39m\u001b[38;5;241m.\u001b[39mrender_mode \u001b[38;5;129;01mis\u001b[39;00m \u001b[38;5;129;01mnot\u001b[39;00m \u001b[38;5;28;01mNone\u001b[39;00m\n\u001b[0;32m    196\u001b[0m \u001b[38;5;66;03m# init env\u001b[39;00m\n\u001b[1;32m--> 197\u001b[0m \u001b[38;5;28mself\u001b[39m\u001b[38;5;241m.\u001b[39menv \u001b[38;5;241m=\u001b[39m \u001b[43mAviary\u001b[49m\u001b[43m(\u001b[49m\n\u001b[0;32m    198\u001b[0m \u001b[43m    \u001b[49m\u001b[43mstart_pos\u001b[49m\u001b[38;5;241;43m=\u001b[39;49m\u001b[38;5;28;43mself\u001b[39;49m\u001b[38;5;241;43m.\u001b[39;49m\u001b[43mstart_pos\u001b[49m\u001b[43m,\u001b[49m\n\u001b[0;32m    199\u001b[0m \u001b[43m    \u001b[49m\u001b[43mstart_orn\u001b[49m\u001b[38;5;241;43m=\u001b[39;49m\u001b[38;5;28;43mself\u001b[39;49m\u001b[38;5;241;43m.\u001b[39;49m\u001b[43mstart_orn\u001b[49m\u001b[43m,\u001b[49m\n\u001b[0;32m    200\u001b[0m \u001b[43m    \u001b[49m\u001b[43mdrone_type\u001b[49m\u001b[38;5;241;43m=\u001b[39;49m\u001b[38;5;124;43m\"\u001b[39;49m\u001b[38;5;124;43mrocket\u001b[39;49m\u001b[38;5;124;43m\"\u001b[39;49m\u001b[43m,\u001b[49m\n\u001b[0;32m    201\u001b[0m \u001b[43m    \u001b[49m\u001b[43mrender\u001b[49m\u001b[38;5;241;43m=\u001b[39;49m\u001b[38;5;28;43mself\u001b[39;49m\u001b[38;5;241;43m.\u001b[39;49m\u001b[43mrender_mode\u001b[49m\u001b[43m \u001b[49m\u001b[38;5;129;43;01mis\u001b[39;49;00m\u001b[43m \u001b[49m\u001b[38;5;129;43;01mnot\u001b[39;49;00m\u001b[43m \u001b[49m\u001b[38;5;28;43;01mNone\u001b[39;49;00m\u001b[43m,\u001b[49m\n\u001b[0;32m    202\u001b[0m \u001b[43m    \u001b[49m\u001b[43mdrone_options\u001b[49m\u001b[38;5;241;43m=\u001b[39;49m\u001b[43mdrone_options\u001b[49m\u001b[43m,\u001b[49m\n\u001b[0;32m    203\u001b[0m \u001b[43m    \u001b[49m\u001b[43mseed\u001b[49m\u001b[38;5;241;43m=\u001b[39;49m\u001b[43mseed\u001b[49m\u001b[43m,\u001b[49m\n\u001b[0;32m    204\u001b[0m \u001b[43m\u001b[49m\u001b[43m)\u001b[49m\n\u001b[0;32m    206\u001b[0m \u001b[38;5;66;03m# add the random velocities to our base\u001b[39;00m\n\u001b[0;32m    207\u001b[0m start_ang_vel \u001b[38;5;241m=\u001b[39m np\u001b[38;5;241m.\u001b[39marray([\u001b[38;5;241m0.0\u001b[39m, \u001b[38;5;241m0.0\u001b[39m, \u001b[38;5;241m0.0\u001b[39m])\n",
      "File \u001b[1;32m~\\AppData\\Local\\pypoetry\\Cache\\virtualenvs\\autonomous-falcon9-wJ6M2Wh--py3.9\\lib\\site-packages\\PyFlyt\\core\\aviary.py:72\u001b[0m, in \u001b[0;36mAviary.__init__\u001b[1;34m(self, start_pos, start_orn, drone_type, drone_type_mappings, drone_options, wind_type, wind_options, render, physics_hz, world_scale, seed)\u001b[0m\n\u001b[0;32m     40\u001b[0m \u001b[38;5;28;01mdef\u001b[39;00m \u001b[38;5;21m__init__\u001b[39m(\n\u001b[0;32m     41\u001b[0m     \u001b[38;5;28mself\u001b[39m,\n\u001b[0;32m     42\u001b[0m     start_pos: np\u001b[38;5;241m.\u001b[39mndarray,\n\u001b[1;32m   (...)\u001b[0m\n\u001b[0;32m     52\u001b[0m     seed: \u001b[38;5;28;01mNone\u001b[39;00m \u001b[38;5;241m|\u001b[39m \u001b[38;5;28mint\u001b[39m \u001b[38;5;241m=\u001b[39m \u001b[38;5;28;01mNone\u001b[39;00m,\n\u001b[0;32m     53\u001b[0m ):\n\u001b[0;32m     54\u001b[0m \u001b[38;5;250m    \u001b[39m\u001b[38;5;124;03m\"\"\"Initializes a PyBullet environment that hosts UAVs and other entities.\u001b[39;00m\n\u001b[0;32m     55\u001b[0m \n\u001b[0;32m     56\u001b[0m \u001b[38;5;124;03m    The Aviary class itself inherits from a BulletClient, so any function that a PyBullet client has, this class will have.\u001b[39;00m\n\u001b[1;32m   (...)\u001b[0m\n\u001b[0;32m     70\u001b[0m \u001b[38;5;124;03m        seed (None | int): optional int for seeding the simulation RNG.\u001b[39;00m\n\u001b[0;32m     71\u001b[0m \u001b[38;5;124;03m    \"\"\"\u001b[39;00m\n\u001b[1;32m---> 72\u001b[0m     \u001b[38;5;28;43msuper\u001b[39;49m\u001b[43m(\u001b[49m\u001b[43m)\u001b[49m\u001b[38;5;241;43m.\u001b[39;49m\u001b[38;5;21;43m__init__\u001b[39;49m\u001b[43m(\u001b[49m\u001b[43mp\u001b[49m\u001b[38;5;241;43m.\u001b[39;49m\u001b[43mGUI\u001b[49m\u001b[43m \u001b[49m\u001b[38;5;28;43;01mif\u001b[39;49;00m\u001b[43m \u001b[49m\u001b[43mrender\u001b[49m\u001b[43m \u001b[49m\u001b[38;5;28;43;01melse\u001b[39;49;00m\u001b[43m \u001b[49m\u001b[43mp\u001b[49m\u001b[38;5;241;43m.\u001b[39;49m\u001b[43mDIRECT\u001b[49m\u001b[43m)\u001b[49m\n\u001b[0;32m     73\u001b[0m     \u001b[38;5;28mprint\u001b[39m(\u001b[38;5;124m\"\u001b[39m\u001b[38;5;130;01m\\033\u001b[39;00m\u001b[38;5;124m[A                             \u001b[39m\u001b[38;5;130;01m\\033\u001b[39;00m\u001b[38;5;124m[A\u001b[39m\u001b[38;5;124m\"\u001b[39m)\n\u001b[0;32m     75\u001b[0m     \u001b[38;5;66;03m# check for starting position and orientation shapes\u001b[39;00m\n",
      "File \u001b[1;32m~\\AppData\\Local\\pypoetry\\Cache\\virtualenvs\\autonomous-falcon9-wJ6M2Wh--py3.9\\lib\\site-packages\\pybullet_utils\\bullet_client.py:33\u001b[0m, in \u001b[0;36mBulletClient.__init__\u001b[1;34m(self, connection_mode, hostName, options)\u001b[0m\n\u001b[0;32m     31\u001b[0m     connection_mode \u001b[38;5;241m=\u001b[39m pybullet\u001b[38;5;241m.\u001b[39mDIRECT\n\u001b[0;32m     32\u001b[0m \u001b[38;5;28;01mif\u001b[39;00m hostName \u001b[38;5;129;01mis\u001b[39;00m \u001b[38;5;28;01mNone\u001b[39;00m:\n\u001b[1;32m---> 33\u001b[0m     \u001b[38;5;28mself\u001b[39m\u001b[38;5;241m.\u001b[39m_client \u001b[38;5;241m=\u001b[39m \u001b[43mpybullet\u001b[49m\u001b[38;5;241;43m.\u001b[39;49m\u001b[43mconnect\u001b[49m\u001b[43m(\u001b[49m\u001b[43mconnection_mode\u001b[49m\u001b[43m,\u001b[49m\u001b[43m \u001b[49m\u001b[43moptions\u001b[49m\u001b[38;5;241;43m=\u001b[39;49m\u001b[43moptions\u001b[49m\u001b[43m)\u001b[49m\n\u001b[0;32m     34\u001b[0m \u001b[38;5;28;01melse\u001b[39;00m:\n\u001b[0;32m     35\u001b[0m     \u001b[38;5;28mself\u001b[39m\u001b[38;5;241m.\u001b[39m_client \u001b[38;5;241m=\u001b[39m pybullet\u001b[38;5;241m.\u001b[39mconnect(connection_mode, hostName\u001b[38;5;241m=\u001b[39mhostName, options\u001b[38;5;241m=\u001b[39moptions)\n",
      "\u001b[1;31merror\u001b[0m: Only one local in-process GUI/GUI_SERVER connection allowed. Use DIRECT connection mode or start a separate GUI physics server (ExampleBrowser, App_SharedMemoryPhysics_GUI, App_SharedMemoryPhysics_VR) and connect over SHARED_MEMORY, UDP or TCP instead."
     ]
    }
   ],
   "source": [
    "# Render the environment\n",
    "# env = gymnasium.make(\"PyFlyt/Rocket-Landing-v1\", render_mode=\"human\")\n",
    "\n",
    "obs, info = env.reset()\n",
    "done = info['env_complete']\n",
    "# done = False\n",
    "while not done:\n",
    "    action, _ = model.predict(obs, deterministic=True)\n",
    "    # print(env.step(action))\n",
    "    # break\n",
    "    obs, reward, fatal_collision, done, info = env.step(action)\n",
    "    \n",
    "    # env.render()"
   ]
  },
  {
   "cell_type": "code",
   "execution_count": null,
   "id": "c384650b-b0ee-4bda-a1c1-64bdb5c9fb28",
   "metadata": {},
   "outputs": [],
   "source": []
  }
 ],
 "metadata": {
  "kernelspec": {
   "display_name": "pyflyt-dia",
   "language": "python",
   "name": "pyflyt-dia"
  },
  "language_info": {
   "codemirror_mode": {
    "name": "ipython",
    "version": 3
   },
   "file_extension": ".py",
   "mimetype": "text/x-python",
   "name": "python",
   "nbconvert_exporter": "python",
   "pygments_lexer": "ipython3",
   "version": "3.9.10"
  }
 },
 "nbformat": 4,
 "nbformat_minor": 5
}
